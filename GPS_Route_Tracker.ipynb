{
  "nbformat": 4,
  "nbformat_minor": 0,
  "metadata": {
    "colab": {
      "provenance": []
    },
    "kernelspec": {
      "name": "python3",
      "display_name": "Python 3"
    },
    "language_info": {
      "name": "python"
    }
  },
  "cells": [
    {
      "cell_type": "code",
      "source": [
        "!pip install gmplot"
      ],
      "metadata": {
        "colab": {
          "base_uri": "https://localhost:8080/"
        },
        "id": "ft1ZiPV5tFxk",
        "outputId": "2946210d-4dbd-4ffc-c675-fafcc109eb94"
      },
      "execution_count": 1,
      "outputs": [
        {
          "output_type": "stream",
          "name": "stdout",
          "text": [
            "Collecting gmplot\n",
            "  Downloading gmplot-1.4.1-py3-none-any.whl.metadata (2.7 kB)\n",
            "Requirement already satisfied: requests in /usr/local/lib/python3.11/dist-packages (from gmplot) (2.32.3)\n",
            "Requirement already satisfied: charset-normalizer<4,>=2 in /usr/local/lib/python3.11/dist-packages (from requests->gmplot) (3.4.1)\n",
            "Requirement already satisfied: idna<4,>=2.5 in /usr/local/lib/python3.11/dist-packages (from requests->gmplot) (3.10)\n",
            "Requirement already satisfied: urllib3<3,>=1.21.1 in /usr/local/lib/python3.11/dist-packages (from requests->gmplot) (2.3.0)\n",
            "Requirement already satisfied: certifi>=2017.4.17 in /usr/local/lib/python3.11/dist-packages (from requests->gmplot) (2024.12.14)\n",
            "Downloading gmplot-1.4.1-py3-none-any.whl (164 kB)\n",
            "\u001b[2K   \u001b[90m━━━━━━━━━━━━━━━━━━━━━━━━━━━━━━━━━━━━━━━━\u001b[0m \u001b[32m164.7/164.7 kB\u001b[0m \u001b[31m2.8 MB/s\u001b[0m eta \u001b[36m0:00:00\u001b[0m\n",
            "\u001b[?25hInstalling collected packages: gmplot\n",
            "Successfully installed gmplot-1.4.1\n"
          ]
        }
      ]
    },
    {
      "cell_type": "code",
      "execution_count": 2,
      "metadata": {
        "colab": {
          "base_uri": "https://localhost:8080/"
        },
        "id": "byXIz_FutEGp",
        "outputId": "1593fda0-d91a-4710-f076-7ba2c3343471"
      },
      "outputs": [
        {
          "output_type": "stream",
          "name": "stdout",
          "text": [
            "Map has been created and saved as gps_route_map.html\n"
          ]
        }
      ],
      "source": [
        "import pandas as pd\n",
        "from gmplot import gmplot\n",
        "\n",
        "# Step 1: Load GPS data from CSV\n",
        "gps_data = pd.read_csv('/content/gps_data.csv')\n",
        "\n",
        "# Step 2: Extract latitude and longitude values\n",
        "latitudes = gps_data['latitude']\n",
        "longitudes = gps_data['longitude']\n",
        "\n",
        "# Step 3: Create a map plotter object\n",
        "gmap = gmplot.GoogleMapPlotter(latitudes.mean(), longitudes.mean(), 13)  # Mean of latitudes and longitudes for center\n",
        "\n",
        "# Step 4: Plot the route on the map\n",
        "gmap.plot(latitudes, longitudes, color='blue', edge_width=3)\n",
        "\n",
        "# Step 5: Save the map as an HTML file\n",
        "gmap.draw('gps_route_map.html')\n",
        "\n",
        "print(\"Map has been created and saved as gps_route_map.html\")\n"
      ]
    }
  ]
}